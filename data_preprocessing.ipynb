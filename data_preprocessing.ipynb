{
 "cells": [
  {
   "cell_type": "code",
   "execution_count": 63,
   "id": "43535d8a-efbb-4777-91fb-4bf269994bc3",
   "metadata": {},
   "outputs": [],
   "source": [
    "import numpy as np\n",
    "import cv2 as cv\n",
    "import os"
   ]
  },
  {
   "cell_type": "code",
   "execution_count": 64,
   "id": "1d0a7e3f-23b6-49bb-8284-4966a6523a60",
   "metadata": {},
   "outputs": [],
   "source": [
    "training_path = \"dataset/data/training\"\n",
    "testing_path = \"dataset/data/testing\""
   ]
  },
  {
   "cell_type": "code",
   "execution_count": 65,
   "id": "9943e17a-c7aa-4d22-bd1f-628283b36484",
   "metadata": {},
   "outputs": [],
   "source": [
    "CATEGORIES = os.listdir(training_path)"
   ]
  },
  {
   "cell_type": "code",
   "execution_count": 67,
   "id": "87480759-aa5b-4d52-9103-18a70f52df5c",
   "metadata": {},
   "outputs": [],
   "source": [
    "X, y = [], []\n",
    "\n",
    "for i, category in enumerate(CATEGORIES):\n",
    "    new_path = os.path.join(training_path, category)\n",
    "    for image_name in os.listdir(new_path):\n",
    "        image = cv.imread(os.path.join(new_path, image_name), 0)\n",
    "        image = cv.resize(image, (64, 64))\n",
    "        image = image / 255.0\n",
    "        X.append(image)\n",
    "        y.append(i)"
   ]
  },
  {
   "cell_type": "code",
   "execution_count": 68,
   "id": "9073a40c-d771-4c5b-a215-2ef26781b056",
   "metadata": {},
   "outputs": [],
   "source": [
    "X, y = np.array(X).reshape(-1, 64, 64, 1), np.array(y)"
   ]
  },
  {
   "cell_type": "code",
   "execution_count": 69,
   "id": "e38aed5f-88cd-4461-9f23-6ed557615a58",
   "metadata": {},
   "outputs": [],
   "source": [
    "from sklearn.model_selection import train_test_split"
   ]
  },
  {
   "cell_type": "code",
   "execution_count": 70,
   "id": "a87c1874-64a8-45b5-8bbb-9f6d97b5ad0b",
   "metadata": {},
   "outputs": [],
   "source": [
    "X_train, X_test, y_train, y_test = train_test_split(X, y, random_state=42)"
   ]
  },
  {
   "cell_type": "code",
   "execution_count": 71,
   "id": "10e5ee03-0ea0-4035-8d20-d0a04ea17c67",
   "metadata": {},
   "outputs": [],
   "source": [
    "import pickle\n",
    "pickle.dump(X_train, open(\"X_train.pickle\", 'wb'))\n",
    "pickle.dump(X_test, open(\"X_test.pickle\", 'wb'))\n",
    "pickle.dump(y_train, open(\"y_train.pickle\", 'wb'))\n",
    "pickle.dump(y_test, open(\"y_test.pickle\", 'wb'))"
   ]
  },
  {
   "cell_type": "code",
   "execution_count": null,
   "id": "76118774-8954-40ac-96c8-e59b1f30dcd7",
   "metadata": {},
   "outputs": [],
   "source": []
  }
 ],
 "metadata": {
  "kernelspec": {
   "display_name": "Python 3 (ipykernel)",
   "language": "python",
   "name": "python3"
  },
  "language_info": {
   "codemirror_mode": {
    "name": "ipython",
    "version": 3
   },
   "file_extension": ".py",
   "mimetype": "text/x-python",
   "name": "python",
   "nbconvert_exporter": "python",
   "pygments_lexer": "ipython3",
   "version": "3.9.5"
  }
 },
 "nbformat": 4,
 "nbformat_minor": 5
}
