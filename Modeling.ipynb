{
 "cells": [
  {
   "cell_type": "code",
   "execution_count": 15,
   "id": "ea8370d0-b7c4-4521-9180-68ee634f4919",
   "metadata": {},
   "outputs": [],
   "source": [
    "import tensorflow as tf\n",
    "import os\n",
    "import numpy as np\n",
    "import cv2 as cv\n",
    "from tensorflow.keras.models import Sequential\n",
    "from tensorflow.keras.layers import Dense, Dropout, Activation, Flatten, Conv2D, MaxPooling2D"
   ]
  },
  {
   "cell_type": "code",
   "execution_count": 16,
   "id": "64156e3b-ea73-415a-b5ca-9e62c8a011c6",
   "metadata": {},
   "outputs": [],
   "source": [
    "# Loading the data\n",
    "import pickle\n",
    "def load_data():\n",
    "    X_train = pickle.load(open(\"X_train.pickle\", \"rb\"))\n",
    "    X_test = pickle.load(open(\"X_test.pickle\", \"rb\"))\n",
    "    y_train = pickle.load(open(\"y_train.pickle\", \"rb\"))\n",
    "    y_test = pickle.load(open(\"y_test.pickle\", \"rb\"))\n",
    "    \n",
    "    return X_train, X_test, y_train, y_test\n",
    "\n",
    "\n",
    "\n",
    "X_train, X_test, y_train, y_test = load_data()"
   ]
  },
  {
   "cell_type": "code",
   "execution_count": 17,
   "id": "5165514f-e252-463f-ac39-16c0627549bc",
   "metadata": {},
   "outputs": [
    {
     "data": {
      "text/plain": [
       "(4406, 64, 64, 1)"
      ]
     },
     "execution_count": 17,
     "metadata": {},
     "output_type": "execute_result"
    }
   ],
   "source": [
    "X_train.shape"
   ]
  },
  {
   "cell_type": "code",
   "execution_count": 18,
   "id": "a6cd3267-7ab3-4720-afed-0350a4d8e19e",
   "metadata": {
    "tags": []
   },
   "outputs": [
    {
     "name": "stderr",
     "output_type": "stream",
     "text": [
      "2021-09-19 22:02:16.138507: W tensorflow/core/framework/cpu_allocator_impl.cc:80] Allocation of 64962560 exceeds 10% of free system memory.\n"
     ]
    },
    {
     "name": "stdout",
     "output_type": "stream",
     "text": [
      "Epoch 1/15\n",
      "661/661 [==============================] - 23s 32ms/step - loss: 0.3656 - accuracy: 0.8633 - val_loss: 0.3318 - val_accuracy: 0.8980\n",
      "Epoch 2/15\n",
      "661/661 [==============================] - 21s 31ms/step - loss: 0.2025 - accuracy: 0.9304 - val_loss: 0.2569 - val_accuracy: 0.9138\n",
      "Epoch 3/15\n",
      "661/661 [==============================] - 21s 32ms/step - loss: 0.1669 - accuracy: 0.9450 - val_loss: 0.2008 - val_accuracy: 0.9320\n",
      "Epoch 4/15\n",
      "661/661 [==============================] - 21s 32ms/step - loss: 0.1472 - accuracy: 0.9491 - val_loss: 0.2659 - val_accuracy: 0.9274\n",
      "Epoch 5/15\n",
      "661/661 [==============================] - 22s 33ms/step - loss: 0.1153 - accuracy: 0.9619 - val_loss: 0.2437 - val_accuracy: 0.9274\n",
      "Epoch 6/15\n",
      "661/661 [==============================] - 21s 31ms/step - loss: 0.0995 - accuracy: 0.9695 - val_loss: 0.1901 - val_accuracy: 0.9388\n",
      "Epoch 7/15\n",
      "661/661 [==============================] - 21s 32ms/step - loss: 0.0831 - accuracy: 0.9733 - val_loss: 0.2038 - val_accuracy: 0.9410\n",
      "Epoch 8/15\n",
      "661/661 [==============================] - 22s 33ms/step - loss: 0.0790 - accuracy: 0.9738 - val_loss: 0.2229 - val_accuracy: 0.9274\n",
      "Epoch 9/15\n",
      "661/661 [==============================] - 24s 36ms/step - loss: 0.0848 - accuracy: 0.9720 - val_loss: 0.4569 - val_accuracy: 0.9184\n",
      "Epoch 10/15\n",
      "661/661 [==============================] - 24s 37ms/step - loss: 0.0879 - accuracy: 0.9730 - val_loss: 0.3892 - val_accuracy: 0.9229\n",
      "Epoch 11/15\n",
      "661/661 [==============================] - 23s 35ms/step - loss: 0.0592 - accuracy: 0.9818 - val_loss: 0.2164 - val_accuracy: 0.9546\n",
      "Epoch 12/15\n",
      "661/661 [==============================] - 21s 32ms/step - loss: 0.0361 - accuracy: 0.9874 - val_loss: 0.2209 - val_accuracy: 0.9546\n",
      "Epoch 13/15\n",
      "661/661 [==============================] - 23s 35ms/step - loss: 0.0478 - accuracy: 0.9846 - val_loss: 0.1917 - val_accuracy: 0.9546\n",
      "Epoch 14/15\n",
      "661/661 [==============================] - 23s 34ms/step - loss: 0.0538 - accuracy: 0.9866 - val_loss: 0.4250 - val_accuracy: 0.9365\n",
      "Epoch 15/15\n",
      "661/661 [==============================] - 21s 32ms/step - loss: 0.0518 - accuracy: 0.9854 - val_loss: 0.2949 - val_accuracy: 0.9501\n"
     ]
    },
    {
     "data": {
      "text/plain": [
       "<keras.callbacks.History at 0x7fd3770fe8b0>"
      ]
     },
     "execution_count": 18,
     "metadata": {},
     "output_type": "execute_result"
    }
   ],
   "source": [
    "model = Sequential()\n",
    "model.add(Conv2D(64, (3,3), input_shape = X_train.shape[1:]))\n",
    "model.add(Activation(\"relu\"))\n",
    "model.add(MaxPooling2D(pool_size = (2,2))) # Pooling\n",
    "\n",
    "model.add(Conv2D(64, (3,3), input_shape = X_train.shape[1:]))\n",
    "model.add(Activation(\"relu\"))\n",
    "model.add(MaxPooling2D(pool_size = (2,2))) # Pooling\n",
    "\n",
    "\n",
    "model.add(Flatten())\n",
    "model.add(Dense(64))\n",
    "\n",
    "model.add(Dense(1))\n",
    "model.add(Activation('sigmoid'))\n",
    "\n",
    "model.compile(loss = 'binary_crossentropy',\n",
    "             optimizer = 'adam',\n",
    "             metrics = ['accuracy'])\n",
    "\n",
    "model.fit(X_train, y_train, batch_size = 6, epochs = 15, validation_split = 0.1)"
   ]
  },
  {
   "cell_type": "code",
   "execution_count": 48,
   "id": "9871a6cc-1a18-44d8-a8f2-484d10a534fd",
   "metadata": {},
   "outputs": [],
   "source": [
    "from sklearn.metrics import accuracy_score\n",
    "preds = []\n",
    "for each in model.predict(X_test):\n",
    "    preds.append(1 if each > 0.5 else 0)"
   ]
  },
  {
   "cell_type": "code",
   "execution_count": 51,
   "id": "39b95b7c-bbcc-4854-baad-8af49300c5e6",
   "metadata": {},
   "outputs": [
    {
     "data": {
      "text/plain": [
       "0.9693669162695712"
      ]
     },
     "execution_count": 51,
     "metadata": {},
     "output_type": "execute_result"
    }
   ],
   "source": [
    "accuracy_score(y_test, preds)"
   ]
  },
  {
   "cell_type": "code",
   "execution_count": 53,
   "id": "b3f5841b-106b-4356-befc-657bb95ee873",
   "metadata": {},
   "outputs": [
    {
     "name": "stderr",
     "output_type": "stream",
     "text": [
      "2021-09-19 22:21:57.413416: W tensorflow/python/util/util.cc:348] Sets are not currently considered sequences, but this may change in the future, so consider avoiding using them.\n"
     ]
    },
    {
     "name": "stdout",
     "output_type": "stream",
     "text": [
      "INFO:tensorflow:Assets written to: model_save/assets\n"
     ]
    }
   ],
   "source": [
    "model.save(\"model_save\")"
   ]
  },
  {
   "cell_type": "code",
   "execution_count": null,
   "id": "bca0e19e-8898-48fa-950c-041147d7c666",
   "metadata": {},
   "outputs": [],
   "source": []
  },
  {
   "cell_type": "code",
   "execution_count": null,
   "id": "6ee486a1-220c-42ba-a9e2-a29d74956773",
   "metadata": {},
   "outputs": [],
   "source": []
  },
  {
   "cell_type": "code",
   "execution_count": null,
   "id": "3c130b02-0e83-4a5a-acb4-893b7f3806bd",
   "metadata": {},
   "outputs": [],
   "source": []
  }
 ],
 "metadata": {
  "kernelspec": {
   "display_name": "Python 3 (ipykernel)",
   "language": "python",
   "name": "python3"
  },
  "language_info": {
   "codemirror_mode": {
    "name": "ipython",
    "version": 3
   },
   "file_extension": ".py",
   "mimetype": "text/x-python",
   "name": "python",
   "nbconvert_exporter": "python",
   "pygments_lexer": "ipython3",
   "version": "3.9.5"
  }
 },
 "nbformat": 4,
 "nbformat_minor": 5
}
